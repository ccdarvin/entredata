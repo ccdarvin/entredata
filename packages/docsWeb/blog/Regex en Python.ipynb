{
 "cells": [
  {
   "cell_type": "raw",
   "metadata": {},
   "source": [
    "---\n",
    "title: Expresiones regulares en Python\n",
    "slug: expresiones-regulares-python\n",
    "date: 2023-06-08\n",
    "authors: [ccdarvin]\n",
    "tags: [python, Expresiones regulares]\n",
    "---"
   ]
  },
  {
   "attachments": {},
   "cell_type": "markdown",
   "metadata": {},
   "source": [
    "# Expresiones Regulares en Python\n",
    "\n",
    "Las expresiones regulares son una secuencia de caracteres que forman un patrón de búsqueda, principalmente utilizadas para la búsqueda de patrones de cadenas de caracteres u operaciones de sustituciones.\n",
    "\n",
    "## Caracteres especiales\n",
    "\n",
    "Los caracteres especiales son aquellos que tienen un significado especial para las expresiones regulares. Por ejemplo, el punto y coma (;) es un caracter especial que se utiliza para separar instrucciones en Python. Sin embargo, en las expresiones regulares, el punto y coma (;) es un caracter especial que se utiliza para indicar que el patrón de búsqueda debe coincidir con cualquier caracter.\n",
    "\n",
    "A continuación se muestra una lista de los caracteres especiales más utilizados en las expresiones regulares:\n",
    "\n",
    "| Caracter | Descripción |\n",
    "| --- | --- |\n",
    "| . | Coincide con cualquier caracter |\n",
    "| ^ | Coincide con el inicio de una cadena |\n",
    "| $ | Coincide con el final de una cadena |\n",
    "| * | Coincide con 0 o más ocurrencias del caracter anterior |  \n",
    "| + | Coincide con 1 o más ocurrencias del caracter anterior |\n",
    "| ? | Coincide con 0 o 1 ocurrencia del caracter anterior |\n",
    "| {n} | Coincide con n ocurrencias del caracter anterior |\n",
    "| {n,} | Coincide con n o más ocurrencias del caracter anterior |\n",
    "| {n,m} | Coincide con un rango de ocurrencias del caracter anterior |\n",
    "| [...] | Coincide con cualquier caracter dentro de los corchetes |\n",
    "| [^...] | Coincide con cualquier caracter que no esté dentro de los corchetes |\n",
    "| (...) | Agrupa una serie de patrones |\n",
    "| \\s | Coincide con un espacio en blanco |\n",
    "| \\S | Coincide con cualquier caracter que no sea un espacio en blanco |\n",
    "| \\w | Coincide con cualquier caracter alfanumérico |\n",
    "| \\W | Coincide con cualquier caracter que no sea alfanumérico |\n",
    "| \\d | Coincide con cualquier caracter numérico |\n",
    "| \\D | Coincide con cualquier caracter que no sea numérico |\n",
    "\n",
    "## Trabajando en python\n",
    "\n",
    "para trabajar con expresiones regulares en python, se debe importar el módulo re. A continuación se muestra un ejemplo de como utilizar el módulo re para buscar un patrón en una cadena de caracteres:\n"
   ]
  },
  {
   "cell_type": "code",
   "execution_count": 5,
   "metadata": {},
   "outputs": [],
   "source": [
    "import re"
   ]
  },
  {
   "attachments": {},
   "cell_type": "markdown",
   "metadata": {},
   "source": [
    "\n",
    "### Encontrar todas las coincidencias"
   ]
  },
  {
   "cell_type": "code",
   "execution_count": 11,
   "metadata": {},
   "outputs": [
    {
     "name": "stdout",
     "output_type": "stream",
     "text": [
      "['mi', 'mi']\n",
      "['123456789']\n"
     ]
    }
   ],
   "source": [
    "text = \"Hola, mi nombre es Juan y mi número de teléfono es 123456789\"\n",
    "pattern = r\"mi\"\n",
    "\n",
    "print(re.findall(pattern, text))\n",
    "pattern = r\"\\d+\"\n",
    "print(re.findall(pattern, text))"
   ]
  },
  {
   "attachments": {},
   "cell_type": "markdown",
   "metadata": {},
   "source": [
    "### Sustituir un patrón en una cadena de caracteres"
   ]
  },
  {
   "cell_type": "code",
   "execution_count": 13,
   "metadata": {},
   "outputs": [
    {
     "name": "stdout",
     "output_type": "stream",
     "text": [
      "Hola, mi nombre es Juan y mi nUmero de teléfono es 123456789\n",
      "Hola, mi nombre es Juan y mi número de teléfono es 123456789\n"
     ]
    }
   ],
   "source": [
    "text = \"Hol, mi nombre es Juan y mi nUmero de teléfono es 123456789\"\n",
    "\n",
    "text = re.sub(r\"Hol\", \"Hola\", text)\n",
    "print(text)\n",
    "text = re.sub(r\"U\", \"ú\", text)\n",
    "print(text)\n"
   ]
  },
  {
   "attachments": {},
   "cell_type": "markdown",
   "metadata": {},
   "source": [
    "### Dividir una cadena de caracteres"
   ]
  },
  {
   "cell_type": "code",
   "execution_count": 14,
   "metadata": {},
   "outputs": [
    {
     "data": {
      "text/plain": [
       "['Hola, mi nombre es Juan ', ' mi número de teléfono es 123456789']"
      ]
     },
     "execution_count": 14,
     "metadata": {},
     "output_type": "execute_result"
    }
   ],
   "source": [
    "text = \"Hola, mi nombre es Juan y mi número de teléfono es 123456789\"\n",
    "\n",
    "text_split = re.split(r\"y\", text)\n",
    "text_split"
   ]
  },
  {
   "attachments": {},
   "cell_type": "markdown",
   "metadata": {},
   "source": [
    "Python tambien tiene integrado funciones de expresiones regulares en el módulo string."
   ]
  },
  {
   "cell_type": "code",
   "execution_count": 17,
   "metadata": {},
   "outputs": [
    {
     "name": "stdout",
     "output_type": "stream",
     "text": [
      "Hola, mi nombre es Darvin y mi número de teléfono es 123456789\n",
      "['Hola', ' mi nombre es Juan y mi número de teléfono es 123456789']\n"
     ]
    }
   ],
   "source": [
    "text = \"Hola, mi nombre es Juan y mi número de teléfono es 123456789\"\n",
    "print(text.replace(\"Juan\", \"Darvin\"))\n",
    "print(text.split(','))"
   ]
  },
  {
   "attachments": {},
   "cell_type": "markdown",
   "metadata": {},
   "source": [
    "Estos son solo alguno de todos los metodos que tiene python para trabajar con expresiones regulares. Para más información, puede consultar la documentación oficial de python en el siguiente enlace: https://docs.python.org/3/library/re.html"
   ]
  }
 ],
 "metadata": {
  "kernelspec": {
   "display_name": "jupyterEnv",
   "language": "python",
   "name": "python3"
  },
  "language_info": {
   "codemirror_mode": {
    "name": "ipython",
    "version": 3
   },
   "file_extension": ".py",
   "mimetype": "text/x-python",
   "name": "python",
   "nbconvert_exporter": "python",
   "pygments_lexer": "ipython3",
   "version": "3.11.3"
  },
  "orig_nbformat": 4
 },
 "nbformat": 4,
 "nbformat_minor": 2
}
