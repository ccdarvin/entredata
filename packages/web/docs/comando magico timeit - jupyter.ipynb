{
 "cells": [
  {
   "attachments": {},
   "cell_type": "markdown",
   "metadata": {},
   "source": [
    "---\n",
    "title: Como usar el %timeit\n",
    "description: En este notebook se muestra como usar el %timeit\n",
    "authors: [ccdarvin]\n",
    "---"
   ]
  },
  {
   "attachments": {},
   "cell_type": "markdown",
   "metadata": {},
   "source": [
    "# Comando magico %timeit\n",
    "\n",
    "El comando mágico `%timeit` en Jupyter Lab es una forma conveniente de medir el tiempo de ejecución de una expresión o una función directamente en tus celdas de código. Puedes utilizar `%timeit` para obtener rápidamente el tiempo promedio de ejecución y comparar diferentes enfoques de implementación.\n"
   ]
  },
  {
   "attachments": {},
   "cell_type": "markdown",
   "metadata": {},
   "source": [
    "## 1. Uso básico de `%timeit`\n",
    "\n",
    "Para utilizar `%timeit`, simplemente coloca el comando mágico antes de la expresión o función que deseas medir. Por ejemplo, para medir el tiempo de ejecución de la expresión `'1 + 1'`, puedes usar el siguiente código en una celda de Jupyter Lab:"
   ]
  },
  {
   "cell_type": "code",
   "execution_count": 15,
   "metadata": {},
   "outputs": [
    {
     "name": "stdout",
     "output_type": "stream",
     "text": [
      "8.92 ns ± 0.314 ns per loop (mean ± std. dev. of 7 runs, 100,000,000 loops each)\n"
     ]
    }
   ],
   "source": [
    "%timeit 1 + 1"
   ]
  },
  {
   "attachments": {},
   "cell_type": "markdown",
   "metadata": {},
   "source": [
    "Después de ejecutar la celda, `%timeit` ejecutará la expresión `'1 + 1'` varias veces y mostrará el tiempo promedio de ejecución. En este caso, el tiempo promedio de ejecución en unidades de tiempo\n",
    "\n",
    "\n",
    "## 2. Tabla de tiempos\n",
    "\n",
    "| Abreviatura | Unidad de tiempo |\n",
    "| --- | --- |\n",
    "| ns | nanosegundos |\n",
    "| us | microsegundos |\n",
    "| ms | milisegundos |\n",
    "| s | segundos |\n",
    "| m | minutos |\n",
    "| h | horas |"
   ]
  },
  {
   "attachments": {},
   "cell_type": "markdown",
   "metadata": {},
   "source": [
    "## 3. Especificar el número de ejecuciones y repeticiones\n",
    "\n",
    "Por defecto, `%timeit` ejecuta la expresión o función 100.000 veces y repite la operación tres veces. Puedes especificar el número de ejecuciones y repeticiones utilizando la sintaxis `%timeit -r <repeticiones> -n <ejecuciones>`. Por ejemplo, para ejecutar la expresión `'1 + 1'` 10.000 veces y repetir la operación cinco veces, puedes usar el siguiente código:"
   ]
  },
  {
   "cell_type": "code",
   "execution_count": 16,
   "metadata": {},
   "outputs": [
    {
     "name": "stdout",
     "output_type": "stream",
     "text": [
      "19.6 ns ± 8.33 ns per loop (mean ± std. dev. of 5 runs, 50 loops each)\n"
     ]
    }
   ],
   "source": [
    "%timeit -r5 -n50 1 + 1"
   ]
  },
  {
   "attachments": {},
   "cell_type": "markdown",
   "metadata": {},
   "source": [
    "En el comando anterior espesificamps que se ejecute 50 veces en 5 repeticiones"
   ]
  },
  {
   "attachments": {},
   "cell_type": "markdown",
   "metadata": {},
   "source": [
    "## 5. Medir el tiempo de ejecución de una función\n",
    "\n",
    "También puedes utilizar `%timeit` para medir el tiempo de ejecución de una función. Por ejemplo, para medir el tiempo de ejecución de la función `sum()` de Python, puedes usar el siguiente código:"
   ]
  },
  {
   "cell_type": "code",
   "execution_count": 17,
   "metadata": {},
   "outputs": [
    {
     "name": "stdout",
     "output_type": "stream",
     "text": [
      "52.1 ns ± 2.04 ns per loop (mean ± std. dev. of 7 runs, 10,000,000 loops each)\n"
     ]
    }
   ],
   "source": [
    "def mi_funcion():\n",
    "    # puedes colocar cualquier código aquí\n",
    "    return 1 + 1\n",
    "\n",
    "%timeit mi_funcion()"
   ]
  },
  {
   "attachments": {},
   "cell_type": "markdown",
   "metadata": {},
   "source": [
    "Jupyter Lab ejecutara el código y te devolvera el tiempo de ejecución de la función"
   ]
  },
  {
   "attachments": {},
   "cell_type": "markdown",
   "metadata": {},
   "source": [
    "## 6. Medir el tiempo de ejecución de una celda \n",
    "\n",
    "También puedes utilizar `%timeit` para medir el tiempo de ejecución de una celda completa. Por ejemplo, para medir el tiempo de ejecución de la siguiente celda, puedes usar el siguiente código:"
   ]
  },
  {
   "cell_type": "code",
   "execution_count": 18,
   "metadata": {},
   "outputs": [
    {
     "name": "stdout",
     "output_type": "stream",
     "text": [
      "33.9 ns ± 0.856 ns per loop (mean ± std. dev. of 7 runs, 10,000,000 loops each)\n"
     ]
    }
   ],
   "source": [
    "%%timeit\n",
    "x = 1\n",
    "x += 1"
   ]
  },
  {
   "attachments": {},
   "cell_type": "markdown",
   "metadata": {},
   "source": [
    "## 7. Obtener el tiempo de ejecución como variable\n",
    "\n",
    "En caso de que desees obtener información más detallada sobre el tiempo de ejecución, podrias asignar el resultado de `%timeit` a una variable, para esto utilizaremos las opciones `-o` para almacenar el resultado y -q para silenciar la salida de la celda. Por ejemplo, para obtener el tiempo de ejecución de la expresión `'1 + 1'` como una variable, puedes usar el siguiente código:"
   ]
  },
  {
   "cell_type": "code",
   "execution_count": 19,
   "metadata": {},
   "outputs": [
    {
     "name": "stdout",
     "output_type": "stream",
     "text": [
      "El mejor tiempo fue 9.284376000287012e-09\n",
      "El peor tiempo fue 9.520851999986916e-09\n"
     ]
    }
   ],
   "source": [
    "\n",
    "resultado = %timeit -o -q 1 + 1\n",
    "print(f'El mejor tiempo fue {resultado.best}')\n",
    "print(f'El peor tiempo fue {resultado.worst}')"
   ]
  },
  {
   "attachments": {},
   "cell_type": "markdown",
   "metadata": {},
   "source": [
    "Hemos visto de forma muy rapida como usar el comando magico `%timeit` en Jupyter Lab, con expresiones muy sencillas, pero en la practica se utiliza para medir el tiempo de ejecución de funciones y celdas completas, lo cual es muy util para comparar diferentes enfoques de implementación."
   ]
  }
 ],
 "metadata": {
  "kernelspec": {
   "display_name": "jupyterEnv",
   "language": "python",
   "name": "python3"
  },
  "language_info": {
   "codemirror_mode": {
    "name": "ipython",
    "version": 3
   },
   "file_extension": ".py",
   "mimetype": "text/x-python",
   "name": "python",
   "nbconvert_exporter": "python",
   "pygments_lexer": "ipython3",
   "version": "3.11.3"
  },
  "orig_nbformat": 4
 },
 "nbformat": 4,
 "nbformat_minor": 2
}
