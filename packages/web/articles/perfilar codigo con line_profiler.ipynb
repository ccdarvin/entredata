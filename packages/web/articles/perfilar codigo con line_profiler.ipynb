{
 "cells": [
  {
   "cell_type": "raw",
   "metadata": {},
   "source": [
    "---\n",
    "title: ¿Como perfilar código con line_profiler?\n",
    "description: Perfilar código nos permite identificar las partes de nuestro código que son más lentas y optimizarlas.\n",
    "lang: es\n",
    "authors: [ccdarvin]\n",
    "slug: perfilar-codigo-con-line-profiler\n",
    "tags: [python, perfilar, line_profiler, optimizar código]\n",
    "---"
   ]
  },
  {
   "attachments": {},
   "cell_type": "markdown",
   "metadata": {},
   "source": [
    "# Perfilar código con line_profiler\n",
    "\n",
    "¿Alguna vez has tenido que optimizar el código de un programa? `line_profiler` es una herramienta que te permite perfilar el código de un programa para encontrar las partes que más tiempo consumen. En este notebook veremos cómo usarla."
   ]
  },
  {
   "attachments": {},
   "cell_type": "markdown",
   "metadata": {},
   "source": [
    "## Instalación\n",
    "\n",
    "Como `line_profiler` no viene instalado por defecto en Anaconda, lo instalaremos con `conda`:\n",
    "\n",
    "En la terminal:\n",
    "```bash\n",
    "pip install line_profiler\n",
    "```\n",
    "En el notebook:"
   ]
  },
  {
   "cell_type": "code",
   "execution_count": null,
   "metadata": {},
   "outputs": [],
   "source": [
    "! pip install line_profiler"
   ]
  },
  {
   "attachments": {},
   "cell_type": "markdown",
   "metadata": {},
   "source": [
    "## ¿Cómo funciona en Jupyter?\n",
    "\n",
    "`line_profiler` es una herramienta que permite perfilar el código de un programa. Esto significa que nos permite ver cuánto tiempo se tarda en ejecutar cada línea de código. Para ello, `line_profiler` nos permite usar el comando `%lprun` en Jupyter. Este comando nos permite perfilar una función. Para ello, debemos añadir el decorador `@profile` a la función que queremos perfilar. \n",
    "\n",
    "cargar el módulo `line_profiler` en el notebook:"
   ]
  },
  {
   "cell_type": "code",
   "execution_count": 5,
   "metadata": {},
   "outputs": [
    {
     "name": "stdout",
     "output_type": "stream",
     "text": [
      "The line_profiler extension is already loaded. To reload it, use:\n",
      "  %reload_ext line_profiler\n"
     ]
    }
   ],
   "source": [
    "%load_ext line_profiler"
   ]
  },
  {
   "attachments": {},
   "cell_type": "markdown",
   "metadata": {},
   "source": [
    "## Perfilando una función\n",
    "\n",
    "Perfilar una funcion en en jupyter lab ees muy sencillo con el comando `%lprun`. Para ello vamos a crear una funcion de prueba que calcule el doble de una lista de números:"
   ]
  },
  {
   "cell_type": "code",
   "execution_count": 6,
   "metadata": {},
   "outputs": [],
   "source": [
    "\n",
    "def funcion_prueba():\n",
    "    data = [1, 2, 3, 4, 5, 6, 7, 8, 9]\n",
    "    doble = []\n",
    "    for item in data:\n",
    "        doble.append(item * 2)\n",
    "    \n",
    "    return doble    "
   ]
  },
  {
   "cell_type": "code",
   "execution_count": 7,
   "metadata": {},
   "outputs": [
    {
     "name": "stdout",
     "output_type": "stream",
     "text": [
      "Timer unit: 1e-07 s\n",
      "\n",
      "Total time: 8e-06 s\n",
      "\n",
      "Could not find file C:\\Users\\WillyCotrina\\AppData\\Local\\Temp\\ipykernel_14792\\1026023441.py\n",
      "Are you sure you are running this program from the same directory\n",
      "that you ran the profiler from?\n",
      "Continuing without the function's contents.\n",
      "\n",
      "Line #      Hits         Time  Per Hit   % Time  Line Contents\n",
      "==============================================================\n",
      "     1                                           \n",
      "     2         1          7.0      7.0      8.8  \n",
      "     3         1          3.0      3.0      3.8  \n",
      "     4         9         24.0      2.7     30.0  \n",
      "     5         9         43.0      4.8     53.8  \n",
      "     6                                           \n",
      "     7         1          3.0      3.0      3.8"
     ]
    }
   ],
   "source": [
    "%lprun -f funcion_prueba funcion_prueba()"
   ]
  },
  {
   "attachments": {},
   "cell_type": "markdown",
   "metadata": {},
   "source": [
    "Como pudimos notar pefilar una funcion es muy sencillo y extremaente util para optimizar el codigo de un programa."
   ]
  }
 ],
 "metadata": {
  "kernelspec": {
   "display_name": "jupyter",
   "language": "python",
   "name": "python3"
  },
  "language_info": {
   "codemirror_mode": {
    "name": "ipython",
    "version": 3
   },
   "file_extension": ".py",
   "mimetype": "text/x-python",
   "name": "python",
   "nbconvert_exporter": "python",
   "pygments_lexer": "ipython3",
   "version": "3.11.3"
  },
  "orig_nbformat": 4
 },
 "nbformat": 4,
 "nbformat_minor": 2
}
