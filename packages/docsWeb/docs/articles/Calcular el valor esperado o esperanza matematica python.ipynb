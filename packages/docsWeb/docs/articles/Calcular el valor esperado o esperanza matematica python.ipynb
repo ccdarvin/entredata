{
 "cells": [
  {
   "cell_type": "raw",
   "metadata": {},
   "source": [
    "---\n",
    "title: Calcular el valor esperado o esperanza matematica python\n",
    "description: ¿Cómo calcular el valor esperado o esperanza matemática en python?\n",
    "date: 2021-08-30\n",
    "slug: calcular-el-valor-esperado-o-esperanza-matematica-python\n",
    "tags: python, estadistica, valor esperado, esperanza matematica\n",
    "---"
   ]
  },
  {
   "attachments": {},
   "cell_type": "markdown",
   "metadata": {},
   "source": [
    "# Valor esperado o esperanza matemática\n",
    "\n",
    "El valor esperado o esperanza matemática de una variable aleatoria es el promedio de sus valores ponderados por sus probabilidades.\n",
    "\n",
    "$$E(X) = \\sum_{i=1}^{n} x_i p_i$$\n",
    "\n",
    "Donde:\n",
    "* $E(X)$: Valor esperado de la variable aleatoria $X$.\n",
    "* $x_i$: Valor de la variable aleatoria $X$.\n",
    "* $p_i$: Probabilidad de que la variable aleatoria $X$ tome el valor $x_i$.\n",
    "\n",
    "Ejemlo:\n",
    "\n",
    "Calcularemos el valor esperado de lanza un dado de 6 caras."
   ]
  },
  {
   "attachments": {},
   "cell_type": "markdown",
   "metadata": {},
   "source": [
    "Importamos la librería numpy "
   ]
  },
  {
   "cell_type": "code",
   "execution_count": 1,
   "metadata": {},
   "outputs": [],
   "source": [
    "import numpy as np"
   ]
  },
  {
   "attachments": {},
   "cell_type": "markdown",
   "metadata": {},
   "source": [
    "Crearemos un vector con los valores del dado"
   ]
  },
  {
   "cell_type": "code",
   "execution_count": 3,
   "metadata": {},
   "outputs": [],
   "source": [
    "dado = np.array([1,2,3,4,5,6])"
   ]
  },
  {
   "attachments": {},
   "cell_type": "markdown",
   "metadata": {},
   "source": [
    "Crearemos una función que calcule el valor esperado"
   ]
  },
  {
   "cell_type": "code",
   "execution_count": 4,
   "metadata": {},
   "outputs": [
    {
     "data": {
      "text/plain": [
       "3.5"
      ]
     },
     "execution_count": 4,
     "metadata": {},
     "output_type": "execute_result"
    }
   ],
   "source": [
    "\n",
    "def calcular_esperanza(dado):\n",
    "    esperanza = 0\n",
    "    for i in range(len(dado)):\n",
    "        esperanza += dado[i]\n",
    "    return esperanza / len(dado)\n",
    "\n",
    "calcular_esperanza(dado)"
   ]
  },
  {
   "attachments": {},
   "cell_type": "markdown",
   "metadata": {},
   "source": [
    "Ahora lo haremos con la librería numpy"
   ]
  },
  {
   "cell_type": "code",
   "execution_count": 5,
   "metadata": {},
   "outputs": [
    {
     "data": {
      "text/plain": [
       "3.5"
      ]
     },
     "execution_count": 5,
     "metadata": {},
     "output_type": "execute_result"
    }
   ],
   "source": [
    "dado.mean()"
   ]
  }
 ],
 "metadata": {
  "kernelspec": {
   "display_name": "jupyter",
   "language": "python",
   "name": "python3"
  },
  "language_info": {
   "codemirror_mode": {
    "name": "ipython",
    "version": 3
   },
   "file_extension": ".py",
   "mimetype": "text/x-python",
   "name": "python",
   "nbconvert_exporter": "python",
   "pygments_lexer": "ipython3",
   "version": "3.11.3"
  },
  "orig_nbformat": 4
 },
 "nbformat": 4,
 "nbformat_minor": 2
}
