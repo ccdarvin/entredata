{
 "cells": [
  {
   "cell_type": "raw",
   "metadata": {},
   "source": [
    "---\n",
    "title: Distribución de poisson - python\n",
    "description: la Distribución de poisson es una distribución de probabilidad discreta que expresa la probabilidad de un número de eventos ocurridos en un intervalo de tiempo fijo si estos ocurren con una frecuencia media conocida e independientemente del tiempo transcurrido desde el evento anterior.\n",
    "date: 2023-06-07\n",
    "autors: [ccdarvin]\n",
    "slug: distribucion-de-poisson-python\n",
    "tags: [probabilidad, python, poisson]\n",
    "---"
   ]
  }
 ],
 "metadata": {
  "kernelspec": {
   "display_name": "jupyterEnv",
   "language": "python",
   "name": "python3"
  },
  "language_info": {
   "name": "python",
   "version": "3.11.3"
  },
  "orig_nbformat": 4
 },
 "nbformat": 4,
 "nbformat_minor": 2
}
