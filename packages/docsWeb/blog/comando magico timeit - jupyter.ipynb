{
 "cells": [
  {
   "cell_type": "raw",
   "metadata": {},
   "source": [
    "---\n",
    "title: Comando mágico timeit - jupyter\n",
    "description: El comando mágico %timeit en Jupyter Lab es una forma conveniente de medir el tiempo de ejecución de una expresión o una función directamente en tus celdas de código. Puedes utilizar %timeit para obtener rápidamente el tiempo promedio de ejecución y comparar diferentes enfoques de implementación.\n",
    "slug: comando-magico-timeit-jupyter\n",
    "authors: [ccdarvin]\n",
    "date: 2023-06-01\n",
    "tags: [jupyter, python, timeit, magic command]\n",
    "categories: [jupyter]\n",
    "---"
   ]
  },
  {
   "attachments": {},
   "cell_type": "markdown",
   "metadata": {},
   "source": [
    "# Como usar el %timeit\n",
    "\n",
    "El comando mágico `%timeit` en Jupyter Lab es una forma conveniente de\n",
    "medir el tiempo de ejecución de una expresión o una función directamente\n",
    "en tus celdas de código. Puedes utilizar `%timeit` para obtener\n",
    "rápidamente el tiempo promedio de ejecución y comparar diferentes\n",
    "enfoques de implementación."
   ]
  },
  {
   "attachments": {},
   "cell_type": "markdown",
   "metadata": {},
   "source": [
    "## 1. Uso básico de `%timeit`\n",
    "\n",
    "Para utilizar `%timeit`, simplemente coloca el comando mágico antes de\n",
    "la expresión o función que deseas medir. Por ejemplo, para medir el\n",
    "tiempo de ejecución de la expresión `'1 + 1'`, puedes usar el siguiente\n",
    "código en una celda de Jupyter Lab:"
   ]
  },
  {
   "cell_type": "code",
   "execution_count": 1,
   "metadata": {},
   "outputs": [
    {
     "name": "stdout",
     "output_type": "stream",
     "text": [
      "10.1 ns ± 0.491 ns per loop (mean ± std. dev. of 7 runs, 100,000,000 loops each)\n"
     ]
    }
   ],
   "source": [
    "%timeit 1 + 1"
   ]
  },
  {
   "attachments": {},
   "cell_type": "markdown",
   "metadata": {},
   "source": [
    "Después de ejecutar la celda, `%timeit` ejecutará la expresión `'1 + 1'`\n",
    "varias veces y mostrará el tiempo promedio de ejecución. En este caso,\n",
    "el tiempo promedio de ejecución en unidades de tiempo"
   ]
  },
  {
   "attachments": {},
   "cell_type": "markdown",
   "metadata": {},
   "source": [
    "## 2. Tabla de tiempos\n",
    "\n",
    "| Abreviatura | Unidad de tiempo |\n",
    "|-------------|------------------|\n",
    "| ns          | nanosegundos     |\n",
    "| us          | microsegundos    |\n",
    "| ms          | milisegundos     |\n",
    "| s           | segundos         |\n",
    "| m           | minutos          |\n",
    "| h           | horas            |"
   ]
  },
  {
   "attachments": {},
   "cell_type": "markdown",
   "metadata": {},
   "source": [
    "## 3. Especificar el número de ejecuciones y repeticiones\n",
    "\n",
    "Por defecto, `%timeit` ejecuta la expresión o función 100.000 veces y\n",
    "repite la operación tres veces. Puedes especificar el número de\n",
    "ejecuciones y repeticiones utilizando la sintaxis\n",
    "`%timeit -r <repeticiones> -n <ejecuciones>`. Por ejemplo, para ejecutar\n",
    "la expresión `'1 + 1'` 10.000 veces y repetir la operación cinco veces,\n",
    "puedes usar el siguiente código:"
   ]
  },
  {
   "cell_type": "code",
   "execution_count": 2,
   "metadata": {},
   "outputs": [
    {
     "name": "stdout",
     "output_type": "stream",
     "text": [
      "25.6 ns ± 5.28 ns per loop (mean ± std. dev. of 5 runs, 50 loops each)\n"
     ]
    }
   ],
   "source": [
    "%timeit -r5 -n50 1 + 1"
   ]
  },
  {
   "attachments": {},
   "cell_type": "markdown",
   "metadata": {},
   "source": [
    "En el comando anterior espesificamps que se ejecute 50 veces en 5\n",
    "repeticiones"
   ]
  },
  {
   "attachments": {},
   "cell_type": "markdown",
   "metadata": {},
   "source": [
    "## 5. Medir el tiempo de ejecución de una función\n",
    "\n",
    "También puedes utilizar `%timeit` para medir el tiempo de ejecución de\n",
    "una función. Por ejemplo, para medir el tiempo de ejecución de la\n",
    "función `sum()` de Python, puedes usar el siguiente código:"
   ]
  },
  {
   "cell_type": "code",
   "execution_count": 3,
   "metadata": {},
   "outputs": [],
   "source": [
    "def mi_funcion():\n",
    "    # puedes colocar cualquier código aquí\n",
    "    return 1 + 1"
   ]
  },
  {
   "attachments": {},
   "cell_type": "markdown",
   "metadata": {},
   "source": [
    "Jupyter Lab ejecutara el código y te devolvera el tiempo de ejecución de\n",
    "la función\n",
    "\n",
    "## 6. Medir el tiempo de ejecución de una celda\n",
    "\n",
    "También puedes utilizar `%timeit` para medir el tiempo de ejecución de\n",
    "una celda completa. Por ejemplo, para medir el tiempo de ejecución de la\n",
    "siguiente celda, puedes usar el siguiente código:"
   ]
  },
  {
   "cell_type": "code",
   "execution_count": 4,
   "metadata": {},
   "outputs": [
    {
     "name": "stdout",
     "output_type": "stream",
     "text": [
      "36.7 ns ± 1.13 ns per loop (mean ± std. dev. of 7 runs, 10,000,000 loops each)\n"
     ]
    }
   ],
   "source": [
    "%%timeit\n",
    "x = 1\n",
    "x += 1"
   ]
  },
  {
   "attachments": {},
   "cell_type": "markdown",
   "metadata": {},
   "source": [
    "## 7. Obtener el tiempo de ejecución como variable\n",
    "\n",
    "En caso de que desees obtener información más detallada sobre el tiempo\n",
    "de ejecución, podrias asignar el resultado de `%timeit` a una variable,\n",
    "para esto utilizaremos las opciones `-o` para almacenar el resultado y\n",
    "-q para silenciar la salida de la celda. Por ejemplo, para obtener el\n",
    "tiempo de ejecución de la expresión `'1 + 1'` como una variable, puedes\n",
    "usar el siguiente código:"
   ]
  },
  {
   "cell_type": "code",
   "execution_count": 5,
   "metadata": {},
   "outputs": [
    {
     "name": "stdout",
     "output_type": "stream",
     "text": [
      "El mejor tiempo fue 9.775258000008763e-09\n",
      "El peor tiempo fue 1.1235137999756262e-08\n"
     ]
    }
   ],
   "source": [
    "resultado = %timeit -o -q 1 + 1\n",
    "print(f'El mejor tiempo fue {resultado.best}')\n",
    "print(f'El peor tiempo fue {resultado.worst}')"
   ]
  },
  {
   "attachments": {},
   "cell_type": "markdown",
   "metadata": {},
   "source": [
    "Hemos visto de forma muy rapida como usar el comando magico `%timeit` en\n",
    "Jupyter Lab, con expresiones muy sencillas, pero en la practica se\n",
    "utiliza para medir el tiempo de ejecución de funciones y celdas\n",
    "completas, lo cual es muy util para comparar diferentes enfoques de\n",
    "implementación."
   ]
  }
 ],
 "metadata": {
  "kernelspec": {
   "display_name": "jupyterEnv",
   "language": "python",
   "name": "python3"
  },
  "language_info": {
   "codemirror_mode": {
    "name": "ipython",
    "version": 3
   },
   "file_extension": ".py",
   "mimetype": "text/x-python",
   "name": "python",
   "nbconvert_exporter": "python",
   "pygments_lexer": "ipython3",
   "version": "3.11.3"
  },
  "orig_nbformat": 4
 },
 "nbformat": 4,
 "nbformat_minor": 2
}
